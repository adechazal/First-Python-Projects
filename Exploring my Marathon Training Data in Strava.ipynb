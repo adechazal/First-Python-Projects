{
 "cells": [
  {
   "cell_type": "markdown",
   "metadata": {},
   "source": [
    "# Exploring my Marathon Training Plan based on my Strava Data\n",
    "\n",
    "Importing data from Strava, cleaning the data, and creating a new graph.\n",
    "\n",
    "In this example I attempt to see if my actual Marathon training followed the proposed training plan. To do this I will:  \n",
    "1) import data from Strava\n",
    "2) format the data and get only my marathon data\n",
    "3) import the target training plan\n",
    "4) compare my performance against the plan graphically\n",
    "\n",
    "It's a Python learning exercise more than an exercise in how to improve my marathon time - although I did learn a few things about how I could improve my marathon times!"
   ]
  },
  {
   "cell_type": "markdown",
   "metadata": {},
   "source": [
    "## Step 1\n",
    "\n",
    "Import the programming tools needed for the job."
   ]
  },
  {
   "cell_type": "code",
   "execution_count": 1,
   "metadata": {},
   "outputs": [],
   "source": [
    "import pandas as pd\n",
    "from datetime import datetime, date, time\n",
    "import matplotlib.pyplot as plt"
   ]
  },
  {
   "cell_type": "markdown",
   "metadata": {},
   "source": [
    "## Step 2\n",
    "\n",
    "Import the Strava data. This is data that I have previously downloaded from Strava. You can download your own data from this link: https://www.strava.com/athlete/delete_your_account (select 'Request Your Archive' in Step 2)."
   ]
  },
  {
   "cell_type": "code",
   "execution_count": 2,
   "metadata": {},
   "outputs": [],
   "source": [
    "#import the activities.\n",
    "\n",
    "all_strava_activities = pd.read_csv('activities.csv', index_col=None, na_values=['NA'])"
   ]
  },
  {
   "cell_type": "code",
   "execution_count": 3,
   "metadata": {},
   "outputs": [
    {
     "data": {
      "text/html": [
       "<div>\n",
       "<style scoped>\n",
       "    .dataframe tbody tr th:only-of-type {\n",
       "        vertical-align: middle;\n",
       "    }\n",
       "\n",
       "    .dataframe tbody tr th {\n",
       "        vertical-align: top;\n",
       "    }\n",
       "\n",
       "    .dataframe thead th {\n",
       "        text-align: right;\n",
       "    }\n",
       "</style>\n",
       "<table border=\"1\" class=\"dataframe\">\n",
       "  <thead>\n",
       "    <tr style=\"text-align: right;\">\n",
       "      <th></th>\n",
       "      <th>Activity ID</th>\n",
       "      <th>Activity Date</th>\n",
       "      <th>Activity Name</th>\n",
       "      <th>Activity Type</th>\n",
       "      <th>Activity Description</th>\n",
       "      <th>Elapsed Time</th>\n",
       "      <th>Distance</th>\n",
       "      <th>Relative Effort</th>\n",
       "      <th>Commute</th>\n",
       "      <th>Activity Gear</th>\n",
       "      <th>Filename</th>\n",
       "    </tr>\n",
       "  </thead>\n",
       "  <tbody>\n",
       "    <tr>\n",
       "      <td>0</td>\n",
       "      <td>2413516305</td>\n",
       "      <td>Jun 1, 2019, 7:58:22 AM</td>\n",
       "      <td>Base run.</td>\n",
       "      <td>Run</td>\n",
       "      <td>NaN</td>\n",
       "      <td>2879</td>\n",
       "      <td>8.00</td>\n",
       "      <td>NaN</td>\n",
       "      <td>False</td>\n",
       "      <td>NaN</td>\n",
       "      <td>activities/2413516305.gpx</td>\n",
       "    </tr>\n",
       "    <tr>\n",
       "      <td>1</td>\n",
       "      <td>2420212550</td>\n",
       "      <td>Jun 3, 2019, 7:10:20 AM</td>\n",
       "      <td>Morning Run</td>\n",
       "      <td>Run</td>\n",
       "      <td>NaN</td>\n",
       "      <td>3071</td>\n",
       "      <td>7.16</td>\n",
       "      <td>NaN</td>\n",
       "      <td>False</td>\n",
       "      <td>NaN</td>\n",
       "      <td>activities/2420212550.gpx</td>\n",
       "    </tr>\n",
       "    <tr>\n",
       "      <td>2</td>\n",
       "      <td>2425948821</td>\n",
       "      <td>Jun 5, 2019, 3:40:34 PM</td>\n",
       "      <td>Along the Zugersee</td>\n",
       "      <td>Run</td>\n",
       "      <td>Caught a strong whiff of dog shit along the wa...</td>\n",
       "      <td>3042</td>\n",
       "      <td>8.93</td>\n",
       "      <td>NaN</td>\n",
       "      <td>False</td>\n",
       "      <td>NaN</td>\n",
       "      <td>activities/2425948821.gpx</td>\n",
       "    </tr>\n",
       "    <tr>\n",
       "      <td>3</td>\n",
       "      <td>2427696113</td>\n",
       "      <td>Jun 6, 2019, 7:12:33 AM</td>\n",
       "      <td>One runner down run.</td>\n",
       "      <td>Run</td>\n",
       "      <td>Cool but scenic. Hanan down with a pulled leg ...</td>\n",
       "      <td>4866</td>\n",
       "      <td>10.93</td>\n",
       "      <td>NaN</td>\n",
       "      <td>False</td>\n",
       "      <td>NaN</td>\n",
       "      <td>activities/2427696113.gpx</td>\n",
       "    </tr>\n",
       "    <tr>\n",
       "      <td>4</td>\n",
       "      <td>2430190980</td>\n",
       "      <td>Jun 7, 2019, 6:51:09 AM</td>\n",
       "      <td>Zugerberg Middle</td>\n",
       "      <td>Run</td>\n",
       "      <td>with dusty, lea and kathy</td>\n",
       "      <td>1773</td>\n",
       "      <td>5.08</td>\n",
       "      <td>NaN</td>\n",
       "      <td>False</td>\n",
       "      <td>NaN</td>\n",
       "      <td>activities/2430190980.gpx</td>\n",
       "    </tr>\n",
       "  </tbody>\n",
       "</table>\n",
       "</div>"
      ],
      "text/plain": [
       "   Activity ID            Activity Date         Activity Name Activity Type  \\\n",
       "0   2413516305  Jun 1, 2019, 7:58:22 AM            Base run.            Run   \n",
       "1   2420212550  Jun 3, 2019, 7:10:20 AM           Morning Run           Run   \n",
       "2   2425948821  Jun 5, 2019, 3:40:34 PM    Along the Zugersee           Run   \n",
       "3   2427696113  Jun 6, 2019, 7:12:33 AM  One runner down run.           Run   \n",
       "4   2430190980  Jun 7, 2019, 6:51:09 AM      Zugerberg Middle           Run   \n",
       "\n",
       "                                Activity Description  Elapsed Time  Distance  \\\n",
       "0                                                NaN          2879      8.00   \n",
       "1                                                NaN          3071      7.16   \n",
       "2  Caught a strong whiff of dog shit along the wa...          3042      8.93   \n",
       "3  Cool but scenic. Hanan down with a pulled leg ...          4866     10.93   \n",
       "4                          with dusty, lea and kathy          1773      5.08   \n",
       "\n",
       "   Relative Effort  Commute  Activity Gear                   Filename  \n",
       "0              NaN    False            NaN  activities/2413516305.gpx  \n",
       "1              NaN    False            NaN  activities/2420212550.gpx  \n",
       "2              NaN    False            NaN  activities/2425948821.gpx  \n",
       "3              NaN    False            NaN  activities/2427696113.gpx  \n",
       "4              NaN    False            NaN  activities/2430190980.gpx  "
      ]
     },
     "execution_count": 3,
     "metadata": {},
     "output_type": "execute_result"
    }
   ],
   "source": [
    "#view the top 5 rows\n",
    "\n",
    "all_strava_activities.head()"
   ]
  },
  {
   "cell_type": "markdown",
   "metadata": {},
   "source": [
    "## Step 3\n",
    "\n",
    "Clean up the data a little. "
   ]
  },
  {
   "cell_type": "code",
   "execution_count": 4,
   "metadata": {},
   "outputs": [],
   "source": [
    "#remove unnecessary columns from the dataframe\n",
    "all_strava_activities.drop(['Activity ID', 'Activity Name', 'Activity Description','Relative Effort', 'Commute', 'Activity Gear', 'Filename'], axis=1, inplace=True)\n",
    "\n",
    "#rename some of the fields for easier use later on\n",
    "all_strava_activities = all_strava_activities.rename(columns={'Activity Date': 'Date', 'Activity Type': 'Activity_Type', 'Elapsed Time': 'Elapsed_Time'})\n",
    "\n"
   ]
  },
  {
   "cell_type": "code",
   "execution_count": 5,
   "metadata": {},
   "outputs": [
    {
     "data": {
      "text/plain": [
       "Date              object\n",
       "Activity_Type     object\n",
       "Elapsed_Time       int64\n",
       "Distance         float64\n",
       "dtype: object"
      ]
     },
     "execution_count": 5,
     "metadata": {},
     "output_type": "execute_result"
    }
   ],
   "source": [
    "#it's good to check the data field types so I know what I'm dealing with if any coversions are needed.\n",
    "\n",
    "all_strava_activities.dtypes"
   ]
  },
  {
   "cell_type": "code",
   "execution_count": 6,
   "metadata": {},
   "outputs": [],
   "source": [
    "#change the date column to a proper date format.\n",
    "\n",
    "all_strava_activities['Date'] = pd.to_datetime(all_strava_activities['Date'])"
   ]
  },
  {
   "cell_type": "code",
   "execution_count": 7,
   "metadata": {},
   "outputs": [],
   "source": [
    "#I'm really only interested in the activities during the training period.\n",
    "\n",
    "#Set the training period start (tps) and end (tpe)\n",
    "tps = pd.to_datetime('2019-06-13')\n",
    "tpe = pd.to_datetime('2019-10-14')\n",
    "\n",
    "#then show the new df based on those filter criteria\n",
    "training_period = all_strava_activities.loc[(all_strava_activities['Date'] >= tps) & (all_strava_activities['Date'] < tpe), :]"
   ]
  },
  {
   "cell_type": "code",
   "execution_count": 8,
   "metadata": {},
   "outputs": [
    {
     "data": {
      "text/html": [
       "<div>\n",
       "<style scoped>\n",
       "    .dataframe tbody tr th:only-of-type {\n",
       "        vertical-align: middle;\n",
       "    }\n",
       "\n",
       "    .dataframe tbody tr th {\n",
       "        vertical-align: top;\n",
       "    }\n",
       "\n",
       "    .dataframe thead th {\n",
       "        text-align: right;\n",
       "    }\n",
       "</style>\n",
       "<table border=\"1\" class=\"dataframe\">\n",
       "  <thead>\n",
       "    <tr style=\"text-align: right;\">\n",
       "      <th></th>\n",
       "      <th>Date</th>\n",
       "      <th>Activity_Type</th>\n",
       "      <th>Elapsed_Time</th>\n",
       "      <th>Distance</th>\n",
       "    </tr>\n",
       "  </thead>\n",
       "  <tbody>\n",
       "    <tr>\n",
       "      <td>8</td>\n",
       "      <td>2019-06-13 07:07:29</td>\n",
       "      <td>Long Run</td>\n",
       "      <td>2584</td>\n",
       "      <td>7.35</td>\n",
       "    </tr>\n",
       "    <tr>\n",
       "      <td>9</td>\n",
       "      <td>2019-06-13 14:45:37</td>\n",
       "      <td>Long Run</td>\n",
       "      <td>5583</td>\n",
       "      <td>14.17</td>\n",
       "    </tr>\n",
       "    <tr>\n",
       "      <td>10</td>\n",
       "      <td>2019-06-15 10:39:24</td>\n",
       "      <td>Run</td>\n",
       "      <td>1658</td>\n",
       "      <td>4.81</td>\n",
       "    </tr>\n",
       "    <tr>\n",
       "      <td>11</td>\n",
       "      <td>2019-06-17 07:12:03</td>\n",
       "      <td>Run</td>\n",
       "      <td>1996</td>\n",
       "      <td>5.70</td>\n",
       "    </tr>\n",
       "    <tr>\n",
       "      <td>12</td>\n",
       "      <td>2019-06-19 07:31:02</td>\n",
       "      <td>Pace</td>\n",
       "      <td>1634</td>\n",
       "      <td>5.74</td>\n",
       "    </tr>\n",
       "  </tbody>\n",
       "</table>\n",
       "</div>"
      ],
      "text/plain": [
       "                  Date Activity_Type  Elapsed_Time  Distance\n",
       "8  2019-06-13 07:07:29      Long Run          2584      7.35\n",
       "9  2019-06-13 14:45:37      Long Run          5583     14.17\n",
       "10 2019-06-15 10:39:24           Run          1658      4.81\n",
       "11 2019-06-17 07:12:03           Run          1996      5.70\n",
       "12 2019-06-19 07:31:02          Pace          1634      5.74"
      ]
     },
     "execution_count": 8,
     "metadata": {},
     "output_type": "execute_result"
    }
   ],
   "source": [
    "training_period.head()"
   ]
  },
  {
   "cell_type": "markdown",
   "metadata": {},
   "source": [
    "## Step 4 \n",
    "\n",
    "Import some comparative data which is the target training plan "
   ]
  },
  {
   "cell_type": "code",
   "execution_count": 9,
   "metadata": {},
   "outputs": [],
   "source": [
    "#import the target training plan and clean it up a bit.\n",
    "HH = pd.read_csv('Hal_Higdon_Plan.csv', index_col=None)\n",
    "HH['KMs'].fillna(0, inplace=True)\n",
    "HH['Date'] = pd.to_datetime(HH.Date)"
   ]
  },
  {
   "cell_type": "code",
   "execution_count": 10,
   "metadata": {},
   "outputs": [
    {
     "data": {
      "text/html": [
       "<div>\n",
       "<style scoped>\n",
       "    .dataframe tbody tr th:only-of-type {\n",
       "        vertical-align: middle;\n",
       "    }\n",
       "\n",
       "    .dataframe tbody tr th {\n",
       "        vertical-align: top;\n",
       "    }\n",
       "\n",
       "    .dataframe thead th {\n",
       "        text-align: right;\n",
       "    }\n",
       "</style>\n",
       "<table border=\"1\" class=\"dataframe\">\n",
       "  <thead>\n",
       "    <tr style=\"text-align: right;\">\n",
       "      <th></th>\n",
       "      <th>Date</th>\n",
       "      <th>Hal Higdon N2</th>\n",
       "      <th>KMs</th>\n",
       "    </tr>\n",
       "  </thead>\n",
       "  <tbody>\n",
       "    <tr>\n",
       "      <td>0</td>\n",
       "      <td>2019-06-10</td>\n",
       "      <td>rest</td>\n",
       "      <td>0.0</td>\n",
       "    </tr>\n",
       "    <tr>\n",
       "      <td>1</td>\n",
       "      <td>2019-06-11</td>\n",
       "      <td>run</td>\n",
       "      <td>4.8</td>\n",
       "    </tr>\n",
       "    <tr>\n",
       "      <td>2</td>\n",
       "      <td>2019-06-12</td>\n",
       "      <td>pace</td>\n",
       "      <td>8.1</td>\n",
       "    </tr>\n",
       "    <tr>\n",
       "      <td>3</td>\n",
       "      <td>2019-06-13</td>\n",
       "      <td>run</td>\n",
       "      <td>4.8</td>\n",
       "    </tr>\n",
       "    <tr>\n",
       "      <td>4</td>\n",
       "      <td>2019-06-14</td>\n",
       "      <td>rest</td>\n",
       "      <td>0.0</td>\n",
       "    </tr>\n",
       "  </tbody>\n",
       "</table>\n",
       "</div>"
      ],
      "text/plain": [
       "        Date Hal Higdon N2  KMs\n",
       "0 2019-06-10          rest  0.0\n",
       "1 2019-06-11           run  4.8\n",
       "2 2019-06-12          pace  8.1\n",
       "3 2019-06-13           run  4.8\n",
       "4 2019-06-14          rest  0.0"
      ]
     },
     "execution_count": 10,
     "metadata": {},
     "output_type": "execute_result"
    }
   ],
   "source": [
    "#view the top 5 rows\n",
    "\n",
    "HH.head()"
   ]
  },
  {
   "cell_type": "markdown",
   "metadata": {},
   "source": [
    "## Step 5\n",
    "\n",
    "Compare the data graphically."
   ]
  },
  {
   "cell_type": "code",
   "execution_count": 11,
   "metadata": {},
   "outputs": [],
   "source": [
    "%matplotlib inline"
   ]
  },
  {
   "cell_type": "code",
   "execution_count": 13,
   "metadata": {},
   "outputs": [
    {
     "data": {
      "image/png": "[encoded data removed]",
      "text/plain": [
       "<Figure size 432x288 with 2 Axes>"
      ]
     },
     "metadata": {
      "needs_background": "light"
     },
     "output_type": "display_data"
    }
   ],
   "source": [
    "ax = plt.subplot(2,1,1)\n",
    "plt.plot(HH.Date, HH.KMs)\n",
    "ax.set_xticks(['2019-06-13', '2019-07-13','2019-08-13', '2019-09-13', '2019-10-13'])\n",
    "ax.set_xticklabels(['Jun', 'Jul', 'Aug', 'Sep', 'Oct'])\n",
    "\n",
    "ax = plt.subplot(2,1,2)\n",
    "plt.plot(training_period.Date, training_period.Distance)\n",
    "ax.set_xticks(['2019-06-13', '2019-07-13','2019-08-13', '2019-09-13', '2019-10-13'])\n",
    "ax.set_xticklabels(['Jun', 'Jul', 'Aug', 'Sep', 'Oct'])\n",
    "\n",
    "plt.show\n",
    "plt.savefig('Comparison')"
   ]
  }
 ],
 "metadata": {
  "kernelspec": {
   "display_name": "Python 3",
   "language": "python",
   "name": "python3"
  },
  "language_info": {
   "codemirror_mode": {
    "name": "ipython",
    "version": 3
   },
   "file_extension": ".py",
   "mimetype": "text/x-python",
   "name": "python",
   "nbconvert_exporter": "python",
   "pygments_lexer": "ipython3",
   "version": "3.7.4"
  }
 },
 "nbformat": 4,
 "nbformat_minor": 2
}
